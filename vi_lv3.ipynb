{
  "nbformat": 4,
  "nbformat_minor": 0,
  "metadata": {
    "colab": {
      "name": "vi-lv3.ipynb",
      "provenance": [],
      "collapsed_sections": [],
      "authorship_tag": "ABX9TyNI1Uas89FgjeuxGPODML+K",
      "include_colab_link": true
    },
    "kernelspec": {
      "name": "python3",
      "display_name": "Python 3"
    },
    "language_info": {
      "name": "python"
    }
  },
  "cells": [
    {
      "cell_type": "markdown",
      "metadata": {
        "id": "view-in-github",
        "colab_type": "text"
      },
      "source": [
        "<a href=\"https://colab.research.google.com/github/tylerwetrust/deep-learning/blob/main/vi_lv3.ipynb\" target=\"_parent\"><img src=\"https://colab.research.google.com/assets/colab-badge.svg\" alt=\"Open In Colab\"/></a>"
      ]
    },
    {
      "cell_type": "code",
      "metadata": {
        "id": "zGF2lF6dHOq5"
      },
      "source": [
        "import pandas as pd\n",
        "import tensorflow as tf\n",
        "import numpy as np\n",
        "from sklearn.model_selection import train_test_split\n",
        "import matplotlib.pyplot as plt"
      ],
      "execution_count": 44,
      "outputs": []
    },
    {
      "cell_type": "code",
      "metadata": {
        "id": "SZtGs2YFHXv2"
      },
      "source": [
        "white = pd.read_csv('winequality-white.csv', sep=';')\n",
        "red = pd.read_csv('winequality-red.csv', sep=';')\n",
        "white['label'] = 0\n",
        "red['label'] = 1\n",
        "frames = [white,red]\n",
        "wines = pd.concat(frames)"
      ],
      "execution_count": 17,
      "outputs": []
    },
    {
      "cell_type": "code",
      "metadata": {
        "colab": {
          "base_uri": "https://localhost:8080/",
          "height": 314
        },
        "id": "aykTyZ56J44h",
        "outputId": "8c740ed4-8b7c-4c0e-9554-97e3a863e82b"
      },
      "source": [
        "wines.describe()"
      ],
      "execution_count": 19,
      "outputs": [
        {
          "output_type": "execute_result",
          "data": {
            "text/html": [
              "<div>\n",
              "<style scoped>\n",
              "    .dataframe tbody tr th:only-of-type {\n",
              "        vertical-align: middle;\n",
              "    }\n",
              "\n",
              "    .dataframe tbody tr th {\n",
              "        vertical-align: top;\n",
              "    }\n",
              "\n",
              "    .dataframe thead th {\n",
              "        text-align: right;\n",
              "    }\n",
              "</style>\n",
              "<table border=\"1\" class=\"dataframe\">\n",
              "  <thead>\n",
              "    <tr style=\"text-align: right;\">\n",
              "      <th></th>\n",
              "      <th>fixed acidity</th>\n",
              "      <th>volatile acidity</th>\n",
              "      <th>citric acid</th>\n",
              "      <th>residual sugar</th>\n",
              "      <th>chlorides</th>\n",
              "      <th>free sulfur dioxide</th>\n",
              "      <th>total sulfur dioxide</th>\n",
              "      <th>density</th>\n",
              "      <th>pH</th>\n",
              "      <th>sulphates</th>\n",
              "      <th>alcohol</th>\n",
              "      <th>quality</th>\n",
              "      <th>label</th>\n",
              "    </tr>\n",
              "  </thead>\n",
              "  <tbody>\n",
              "    <tr>\n",
              "      <th>count</th>\n",
              "      <td>6497.000000</td>\n",
              "      <td>6497.000000</td>\n",
              "      <td>6497.000000</td>\n",
              "      <td>6497.000000</td>\n",
              "      <td>6497.000000</td>\n",
              "      <td>6497.000000</td>\n",
              "      <td>6497.000000</td>\n",
              "      <td>6497.000000</td>\n",
              "      <td>6497.000000</td>\n",
              "      <td>6497.000000</td>\n",
              "      <td>6497.000000</td>\n",
              "      <td>6497.000000</td>\n",
              "      <td>6497.000000</td>\n",
              "    </tr>\n",
              "    <tr>\n",
              "      <th>mean</th>\n",
              "      <td>7.215307</td>\n",
              "      <td>0.339666</td>\n",
              "      <td>0.318633</td>\n",
              "      <td>5.443235</td>\n",
              "      <td>0.056034</td>\n",
              "      <td>30.525319</td>\n",
              "      <td>115.744574</td>\n",
              "      <td>0.994697</td>\n",
              "      <td>3.218501</td>\n",
              "      <td>0.531268</td>\n",
              "      <td>10.491801</td>\n",
              "      <td>5.818378</td>\n",
              "      <td>0.246114</td>\n",
              "    </tr>\n",
              "    <tr>\n",
              "      <th>std</th>\n",
              "      <td>1.296434</td>\n",
              "      <td>0.164636</td>\n",
              "      <td>0.145318</td>\n",
              "      <td>4.757804</td>\n",
              "      <td>0.035034</td>\n",
              "      <td>17.749400</td>\n",
              "      <td>56.521855</td>\n",
              "      <td>0.002999</td>\n",
              "      <td>0.160787</td>\n",
              "      <td>0.148806</td>\n",
              "      <td>1.192712</td>\n",
              "      <td>0.873255</td>\n",
              "      <td>0.430779</td>\n",
              "    </tr>\n",
              "    <tr>\n",
              "      <th>min</th>\n",
              "      <td>3.800000</td>\n",
              "      <td>0.080000</td>\n",
              "      <td>0.000000</td>\n",
              "      <td>0.600000</td>\n",
              "      <td>0.009000</td>\n",
              "      <td>1.000000</td>\n",
              "      <td>6.000000</td>\n",
              "      <td>0.987110</td>\n",
              "      <td>2.720000</td>\n",
              "      <td>0.220000</td>\n",
              "      <td>8.000000</td>\n",
              "      <td>3.000000</td>\n",
              "      <td>0.000000</td>\n",
              "    </tr>\n",
              "    <tr>\n",
              "      <th>25%</th>\n",
              "      <td>6.400000</td>\n",
              "      <td>0.230000</td>\n",
              "      <td>0.250000</td>\n",
              "      <td>1.800000</td>\n",
              "      <td>0.038000</td>\n",
              "      <td>17.000000</td>\n",
              "      <td>77.000000</td>\n",
              "      <td>0.992340</td>\n",
              "      <td>3.110000</td>\n",
              "      <td>0.430000</td>\n",
              "      <td>9.500000</td>\n",
              "      <td>5.000000</td>\n",
              "      <td>0.000000</td>\n",
              "    </tr>\n",
              "    <tr>\n",
              "      <th>50%</th>\n",
              "      <td>7.000000</td>\n",
              "      <td>0.290000</td>\n",
              "      <td>0.310000</td>\n",
              "      <td>3.000000</td>\n",
              "      <td>0.047000</td>\n",
              "      <td>29.000000</td>\n",
              "      <td>118.000000</td>\n",
              "      <td>0.994890</td>\n",
              "      <td>3.210000</td>\n",
              "      <td>0.510000</td>\n",
              "      <td>10.300000</td>\n",
              "      <td>6.000000</td>\n",
              "      <td>0.000000</td>\n",
              "    </tr>\n",
              "    <tr>\n",
              "      <th>75%</th>\n",
              "      <td>7.700000</td>\n",
              "      <td>0.400000</td>\n",
              "      <td>0.390000</td>\n",
              "      <td>8.100000</td>\n",
              "      <td>0.065000</td>\n",
              "      <td>41.000000</td>\n",
              "      <td>156.000000</td>\n",
              "      <td>0.996990</td>\n",
              "      <td>3.320000</td>\n",
              "      <td>0.600000</td>\n",
              "      <td>11.300000</td>\n",
              "      <td>6.000000</td>\n",
              "      <td>0.000000</td>\n",
              "    </tr>\n",
              "    <tr>\n",
              "      <th>max</th>\n",
              "      <td>15.900000</td>\n",
              "      <td>1.580000</td>\n",
              "      <td>1.660000</td>\n",
              "      <td>65.800000</td>\n",
              "      <td>0.611000</td>\n",
              "      <td>289.000000</td>\n",
              "      <td>440.000000</td>\n",
              "      <td>1.038980</td>\n",
              "      <td>4.010000</td>\n",
              "      <td>2.000000</td>\n",
              "      <td>14.900000</td>\n",
              "      <td>9.000000</td>\n",
              "      <td>1.000000</td>\n",
              "    </tr>\n",
              "  </tbody>\n",
              "</table>\n",
              "</div>"
            ],
            "text/plain": [
              "       fixed acidity  volatile acidity  ...      quality        label\n",
              "count    6497.000000       6497.000000  ...  6497.000000  6497.000000\n",
              "mean        7.215307          0.339666  ...     5.818378     0.246114\n",
              "std         1.296434          0.164636  ...     0.873255     0.430779\n",
              "min         3.800000          0.080000  ...     3.000000     0.000000\n",
              "25%         6.400000          0.230000  ...     5.000000     0.000000\n",
              "50%         7.000000          0.290000  ...     6.000000     0.000000\n",
              "75%         7.700000          0.400000  ...     6.000000     0.000000\n",
              "max        15.900000          1.580000  ...     9.000000     1.000000\n",
              "\n",
              "[8 rows x 13 columns]"
            ]
          },
          "metadata": {
            "tags": []
          },
          "execution_count": 19
        }
      ]
    },
    {
      "cell_type": "code",
      "metadata": {
        "colab": {
          "base_uri": "https://localhost:8080/",
          "height": 570
        },
        "id": "M9indDQnKIwm",
        "outputId": "5814f92d-5d1c-4547-c25d-5f6fa5bc60d3"
      },
      "source": [
        "wines.hist()"
      ],
      "execution_count": 20,
      "outputs": [
        {
          "output_type": "execute_result",
          "data": {
            "text/plain": [
              "array([[<matplotlib.axes._subplots.AxesSubplot object at 0x7f5f1e04fb50>,\n",
              "        <matplotlib.axes._subplots.AxesSubplot object at 0x7f5f1d2215d0>,\n",
              "        <matplotlib.axes._subplots.AxesSubplot object at 0x7f5f1d1a08d0>,\n",
              "        <matplotlib.axes._subplots.AxesSubplot object at 0x7f5f1d155f50>],\n",
              "       [<matplotlib.axes._subplots.AxesSubplot object at 0x7f5f1d117610>,\n",
              "        <matplotlib.axes._subplots.AxesSubplot object at 0x7f5f1d0cdc90>,\n",
              "        <matplotlib.axes._subplots.AxesSubplot object at 0x7f5f1d0903d0>,\n",
              "        <matplotlib.axes._subplots.AxesSubplot object at 0x7f5f1d0c4990>],\n",
              "       [<matplotlib.axes._subplots.AxesSubplot object at 0x7f5f1d0c49d0>,\n",
              "        <matplotlib.axes._subplots.AxesSubplot object at 0x7f5f1d087190>,\n",
              "        <matplotlib.axes._subplots.AxesSubplot object at 0x7f5f1cff2d90>,\n",
              "        <matplotlib.axes._subplots.AxesSubplot object at 0x7f5f1cfb5450>],\n",
              "       [<matplotlib.axes._subplots.AxesSubplot object at 0x7f5f1cf6cad0>,\n",
              "        <matplotlib.axes._subplots.AxesSubplot object at 0x7f5f1cf30190>,\n",
              "        <matplotlib.axes._subplots.AxesSubplot object at 0x7f5f1cee3810>,\n",
              "        <matplotlib.axes._subplots.AxesSubplot object at 0x7f5f1ce99e90>]],\n",
              "      dtype=object)"
            ]
          },
          "metadata": {
            "tags": []
          },
          "execution_count": 20
        },
        {
          "output_type": "display_data",
          "data": {
            "image/png": "[encoded data removed]",
            "text/plain": [
              "<Figure size 432x288 with 16 Axes>"
            ]
          },
          "metadata": {
            "tags": [],
            "needs_background": "light"
          }
        }
      ]
    },
    {
      "cell_type": "code",
      "metadata": {
        "colab": {
          "base_uri": "https://localhost:8080/",
          "height": 204
        },
        "id": "ydirDQnhKeBo",
        "outputId": "6e920b4a-fed6-45f1-ee99-2e4764f3034a"
      },
      "source": [
        ""
      ],
      "execution_count": 22,
      "outputs": [
        {
          "output_type": "execute_result",
          "data": {
            "text/html": [
              "<div>\n",
              "<style scoped>\n",
              "    .dataframe tbody tr th:only-of-type {\n",
              "        vertical-align: middle;\n",
              "    }\n",
              "\n",
              "    .dataframe tbody tr th {\n",
              "        vertical-align: top;\n",
              "    }\n",
              "\n",
              "    .dataframe thead th {\n",
              "        text-align: right;\n",
              "    }\n",
              "</style>\n",
              "<table border=\"1\" class=\"dataframe\">\n",
              "  <thead>\n",
              "    <tr style=\"text-align: right;\">\n",
              "      <th></th>\n",
              "      <th>fixed acidity</th>\n",
              "      <th>volatile acidity</th>\n",
              "      <th>citric acid</th>\n",
              "      <th>residual sugar</th>\n",
              "      <th>chlorides</th>\n",
              "      <th>free sulfur dioxide</th>\n",
              "      <th>total sulfur dioxide</th>\n",
              "      <th>density</th>\n",
              "      <th>pH</th>\n",
              "      <th>sulphates</th>\n",
              "      <th>alcohol</th>\n",
              "      <th>quality</th>\n",
              "      <th>label</th>\n",
              "    </tr>\n",
              "  </thead>\n",
              "  <tbody>\n",
              "    <tr>\n",
              "      <th>0</th>\n",
              "      <td>7.0</td>\n",
              "      <td>0.27</td>\n",
              "      <td>0.36</td>\n",
              "      <td>20.7</td>\n",
              "      <td>0.045</td>\n",
              "      <td>45.0</td>\n",
              "      <td>170.0</td>\n",
              "      <td>1.0010</td>\n",
              "      <td>3.00</td>\n",
              "      <td>0.45</td>\n",
              "      <td>8.8</td>\n",
              "      <td>6</td>\n",
              "      <td>0</td>\n",
              "    </tr>\n",
              "    <tr>\n",
              "      <th>1</th>\n",
              "      <td>6.3</td>\n",
              "      <td>0.30</td>\n",
              "      <td>0.34</td>\n",
              "      <td>1.6</td>\n",
              "      <td>0.049</td>\n",
              "      <td>14.0</td>\n",
              "      <td>132.0</td>\n",
              "      <td>0.9940</td>\n",
              "      <td>3.30</td>\n",
              "      <td>0.49</td>\n",
              "      <td>9.5</td>\n",
              "      <td>6</td>\n",
              "      <td>0</td>\n",
              "    </tr>\n",
              "    <tr>\n",
              "      <th>2</th>\n",
              "      <td>8.1</td>\n",
              "      <td>0.28</td>\n",
              "      <td>0.40</td>\n",
              "      <td>6.9</td>\n",
              "      <td>0.050</td>\n",
              "      <td>30.0</td>\n",
              "      <td>97.0</td>\n",
              "      <td>0.9951</td>\n",
              "      <td>3.26</td>\n",
              "      <td>0.44</td>\n",
              "      <td>10.1</td>\n",
              "      <td>6</td>\n",
              "      <td>0</td>\n",
              "    </tr>\n",
              "    <tr>\n",
              "      <th>3</th>\n",
              "      <td>7.2</td>\n",
              "      <td>0.23</td>\n",
              "      <td>0.32</td>\n",
              "      <td>8.5</td>\n",
              "      <td>0.058</td>\n",
              "      <td>47.0</td>\n",
              "      <td>186.0</td>\n",
              "      <td>0.9956</td>\n",
              "      <td>3.19</td>\n",
              "      <td>0.40</td>\n",
              "      <td>9.9</td>\n",
              "      <td>6</td>\n",
              "      <td>0</td>\n",
              "    </tr>\n",
              "    <tr>\n",
              "      <th>4</th>\n",
              "      <td>7.2</td>\n",
              "      <td>0.23</td>\n",
              "      <td>0.32</td>\n",
              "      <td>8.5</td>\n",
              "      <td>0.058</td>\n",
              "      <td>47.0</td>\n",
              "      <td>186.0</td>\n",
              "      <td>0.9956</td>\n",
              "      <td>3.19</td>\n",
              "      <td>0.40</td>\n",
              "      <td>9.9</td>\n",
              "      <td>6</td>\n",
              "      <td>0</td>\n",
              "    </tr>\n",
              "  </tbody>\n",
              "</table>\n",
              "</div>"
            ],
            "text/plain": [
              "   fixed acidity  volatile acidity  citric acid  ...  alcohol  quality  label\n",
              "0            7.0              0.27         0.36  ...      8.8        6      0\n",
              "1            6.3              0.30         0.34  ...      9.5        6      0\n",
              "2            8.1              0.28         0.40  ...     10.1        6      0\n",
              "3            7.2              0.23         0.32  ...      9.9        6      0\n",
              "4            7.2              0.23         0.32  ...      9.9        6      0\n",
              "\n",
              "[5 rows x 13 columns]"
            ]
          },
          "metadata": {
            "tags": []
          },
          "execution_count": 22
        }
      ]
    },
    {
      "cell_type": "code",
      "metadata": {
        "id": "Jl7yIJ7JKso9"
      },
      "source": [
        "X = wines.loc[:, wines.columns != 'label']\n",
        "Y = wines[\"label\"]\n",
        "X_train, X_test, Y_train, Y_test = train_test_split(X, Y, test_size=0.20, random_state=42)\n"
      ],
      "execution_count": 31,
      "outputs": []
    },
    {
      "cell_type": "code",
      "metadata": {
        "id": "V3he_R9KQPtm"
      },
      "source": [
        "from keras import models\n",
        "from keras import layers\n",
        "\n",
        "model = models.Sequential()\n",
        "model.add(layers.Dense(8, activation='relu', input_shape=(12,)))\n",
        "model.add(layers.Dense(8, activation='relu'))\n",
        "model.add(layers.Dense(1, activation='sigmoid'))"
      ],
      "execution_count": 63,
      "outputs": []
    },
    {
      "cell_type": "code",
      "metadata": {
        "id": "leCZ6D8UREcj"
      },
      "source": [
        "model.compile(optimizer='adam',loss='binary_crossentropy',metrics=['accuracy'])"
      ],
      "execution_count": 64,
      "outputs": []
    },
    {
      "cell_type": "code",
      "metadata": {
        "colab": {
          "base_uri": "https://localhost:8080/"
        },
        "id": "5k8WwHvARTYN",
        "outputId": "7abfd35c-5f57-4b36-af4c-14651fda660f"
      },
      "source": [
        "history = model.fit(X_train, Y_train, epochs=20, batch_size=16, validation_split\n",
        "=0.2).history"
      ],
      "execution_count": 65,
      "outputs": [
        {
          "output_type": "stream",
          "text": [
            "Epoch 1/20\n",
            "260/260 [==============================] - 1s 2ms/step - loss: 0.6104 - accuracy: 0.6281 - val_loss: 0.2338 - val_accuracy: 0.9702\n",
            "Epoch 2/20\n",
            "260/260 [==============================] - 0s 2ms/step - loss: 0.1618 - accuracy: 0.9846 - val_loss: 0.0885 - val_accuracy: 0.9865\n",
            "Epoch 3/20\n",
            "260/260 [==============================] - 0s 2ms/step - loss: 0.0640 - accuracy: 0.9927 - val_loss: 0.0572 - val_accuracy: 0.9904\n",
            "Epoch 4/20\n",
            "260/260 [==============================] - 0s 2ms/step - loss: 0.0403 - accuracy: 0.9931 - val_loss: 0.0486 - val_accuracy: 0.9933\n",
            "Epoch 5/20\n",
            "260/260 [==============================] - 0s 2ms/step - loss: 0.0315 - accuracy: 0.9944 - val_loss: 0.0447 - val_accuracy: 0.9942\n",
            "Epoch 6/20\n",
            "260/260 [==============================] - 0s 2ms/step - loss: 0.0310 - accuracy: 0.9950 - val_loss: 0.0430 - val_accuracy: 0.9942\n",
            "Epoch 7/20\n",
            "260/260 [==============================] - 0s 2ms/step - loss: 0.0263 - accuracy: 0.9962 - val_loss: 0.0414 - val_accuracy: 0.9942\n",
            "Epoch 8/20\n",
            "260/260 [==============================] - 0s 2ms/step - loss: 0.0408 - accuracy: 0.9927 - val_loss: 0.0397 - val_accuracy: 0.9942\n",
            "Epoch 9/20\n",
            "260/260 [==============================] - 0s 2ms/step - loss: 0.0195 - accuracy: 0.9966 - val_loss: 0.0382 - val_accuracy: 0.9942\n",
            "Epoch 10/20\n",
            "260/260 [==============================] - 0s 2ms/step - loss: 0.0174 - accuracy: 0.9972 - val_loss: 0.0374 - val_accuracy: 0.9942\n",
            "Epoch 11/20\n",
            "260/260 [==============================] - 0s 2ms/step - loss: 0.0185 - accuracy: 0.9969 - val_loss: 0.0360 - val_accuracy: 0.9942\n",
            "Epoch 12/20\n",
            "260/260 [==============================] - 0s 2ms/step - loss: 0.0150 - accuracy: 0.9977 - val_loss: 0.0353 - val_accuracy: 0.9942\n",
            "Epoch 13/20\n",
            "260/260 [==============================] - 0s 2ms/step - loss: 0.0187 - accuracy: 0.9964 - val_loss: 0.0344 - val_accuracy: 0.9942\n",
            "Epoch 14/20\n",
            "260/260 [==============================] - 0s 2ms/step - loss: 0.0112 - accuracy: 0.9977 - val_loss: 0.0342 - val_accuracy: 0.9942\n",
            "Epoch 15/20\n",
            "260/260 [==============================] - 0s 2ms/step - loss: 0.0206 - accuracy: 0.9955 - val_loss: 0.0334 - val_accuracy: 0.9942\n",
            "Epoch 16/20\n",
            "260/260 [==============================] - 0s 2ms/step - loss: 0.0117 - accuracy: 0.9967 - val_loss: 0.0337 - val_accuracy: 0.9933\n",
            "Epoch 17/20\n",
            "260/260 [==============================] - 0s 2ms/step - loss: 0.0130 - accuracy: 0.9976 - val_loss: 0.0336 - val_accuracy: 0.9933\n",
            "Epoch 18/20\n",
            "260/260 [==============================] - 0s 2ms/step - loss: 0.0141 - accuracy: 0.9971 - val_loss: 0.0333 - val_accuracy: 0.9933\n",
            "Epoch 19/20\n",
            "260/260 [==============================] - 0s 2ms/step - loss: 0.0124 - accuracy: 0.9975 - val_loss: 0.0333 - val_accuracy: 0.9942\n",
            "Epoch 20/20\n",
            "260/260 [==============================] - 0s 2ms/step - loss: 0.0090 - accuracy: 0.9985 - val_loss: 0.0335 - val_accuracy: 0.9942\n"
          ],
          "name": "stdout"
        }
      ]
    },
    {
      "cell_type": "code",
      "metadata": {
        "colab": {
          "base_uri": "https://localhost:8080/",
          "height": 295
        },
        "id": "7zfhrc_xR7vM",
        "outputId": "3cb8891c-b2af-49e7-f4d0-4b065a30a72c"
      },
      "source": [
        "acc = history['accuracy']\n",
        "loss_values = history['loss']\n",
        "val_loss_values = history['val_loss']\n",
        "epochs = range(1, len(acc) + 1)\n",
        "plt.plot(epochs, loss_values, 'bo', label='Training loss')\n",
        "plt.plot(epochs, val_loss_values, 'b', label='Validation loss')\n",
        "plt.title('Training and validation loss')\n",
        "plt.xlabel('Epochs')\n",
        "plt.ylabel('Loss')\n",
        "plt.legend()\n",
        "plt.show()"
      ],
      "execution_count": 45,
      "outputs": [
        {
          "output_type": "display_data",
          "data": {
            "image/png": "[encoded data removed]",
            "text/plain": [
              "<Figure size 432x288 with 1 Axes>"
            ]
          },
          "metadata": {
            "tags": [],
            "needs_background": "light"
          }
        }
      ]
    },
    {
      "cell_type": "code",
      "metadata": {
        "id": "Q7P8ZZ-FVPUV"
      },
      "source": [
        "from sklearn.preprocessing import StandardScaler\n",
        "\n",
        "scaler = StandardScaler().fit(X_train)\n",
        "X_train = scaler.transform(X_train)\n",
        "X_test = scaler.transform(X_test)"
      ],
      "execution_count": 67,
      "outputs": []
    },
    {
      "cell_type": "code",
      "metadata": {
        "id": "imIJIWsiWIMv"
      },
      "source": [
        "model2 = models.Sequential()\n",
        "model2.add(layers.Dense(8, activation='relu', input_shape=(12,)))\n",
        "model2.add(layers.Dense(8, activation='relu'))\n",
        "model2.add(layers.Dense(1, activation='sigmoid'))\n"
      ],
      "execution_count": 68,
      "outputs": []
    },
    {
      "cell_type": "code",
      "metadata": {
        "id": "rEEL3tYeWvk3"
      },
      "source": [
        "model2.compile(optimizer='adam',loss='binary_crossentropy',metrics=['accuracy'])"
      ],
      "execution_count": 69,
      "outputs": []
    },
    {
      "cell_type": "code",
      "metadata": {
        "colab": {
          "base_uri": "https://localhost:8080/"
        },
        "id": "Vo6c0zSuYsHZ",
        "outputId": "7504e77f-8bd4-4138-a646-8da2afe92303"
      },
      "source": [
        "history = model2.fit(X_train, Y_train, epochs=20, batch_size=16, validation_split\n",
        "=0.2).history"
      ],
      "execution_count": 70,
      "outputs": [
        {
          "output_type": "stream",
          "text": [
            "Epoch 1/20\n",
            "260/260 [==============================] - 1s 2ms/step - loss: 0.6095 - accuracy: 0.6692 - val_loss: 0.2515 - val_accuracy: 0.9615\n",
            "Epoch 2/20\n",
            "260/260 [==============================] - 0s 2ms/step - loss: 0.1886 - accuracy: 0.9665 - val_loss: 0.0795 - val_accuracy: 0.9827\n",
            "Epoch 3/20\n",
            "260/260 [==============================] - 0s 2ms/step - loss: 0.0692 - accuracy: 0.9832 - val_loss: 0.0577 - val_accuracy: 0.9865\n",
            "Epoch 4/20\n",
            "260/260 [==============================] - 0s 2ms/step - loss: 0.0484 - accuracy: 0.9854 - val_loss: 0.0518 - val_accuracy: 0.9875\n",
            "Epoch 5/20\n",
            "260/260 [==============================] - 0s 2ms/step - loss: 0.0360 - accuracy: 0.9911 - val_loss: 0.0481 - val_accuracy: 0.9875\n",
            "Epoch 6/20\n",
            "260/260 [==============================] - 0s 2ms/step - loss: 0.0341 - accuracy: 0.9911 - val_loss: 0.0447 - val_accuracy: 0.9913\n",
            "Epoch 7/20\n",
            "260/260 [==============================] - 0s 2ms/step - loss: 0.0270 - accuracy: 0.9940 - val_loss: 0.0426 - val_accuracy: 0.9923\n",
            "Epoch 8/20\n",
            "260/260 [==============================] - 0s 2ms/step - loss: 0.0275 - accuracy: 0.9947 - val_loss: 0.0403 - val_accuracy: 0.9923\n",
            "Epoch 9/20\n",
            "260/260 [==============================] - 0s 2ms/step - loss: 0.0253 - accuracy: 0.9944 - val_loss: 0.0397 - val_accuracy: 0.9923\n",
            "Epoch 10/20\n",
            "260/260 [==============================] - 0s 2ms/step - loss: 0.0306 - accuracy: 0.9951 - val_loss: 0.0394 - val_accuracy: 0.9913\n",
            "Epoch 11/20\n",
            "260/260 [==============================] - 0s 2ms/step - loss: 0.0166 - accuracy: 0.9970 - val_loss: 0.0375 - val_accuracy: 0.9933\n",
            "Epoch 12/20\n",
            "260/260 [==============================] - 0s 2ms/step - loss: 0.0167 - accuracy: 0.9976 - val_loss: 0.0368 - val_accuracy: 0.9933\n",
            "Epoch 13/20\n",
            "260/260 [==============================] - 0s 2ms/step - loss: 0.0223 - accuracy: 0.9955 - val_loss: 0.0361 - val_accuracy: 0.9933\n",
            "Epoch 14/20\n",
            "260/260 [==============================] - 0s 2ms/step - loss: 0.0219 - accuracy: 0.9960 - val_loss: 0.0351 - val_accuracy: 0.9942\n",
            "Epoch 15/20\n",
            "260/260 [==============================] - 0s 2ms/step - loss: 0.0217 - accuracy: 0.9964 - val_loss: 0.0343 - val_accuracy: 0.9933\n",
            "Epoch 16/20\n",
            "260/260 [==============================] - 0s 2ms/step - loss: 0.0180 - accuracy: 0.9970 - val_loss: 0.0340 - val_accuracy: 0.9933\n",
            "Epoch 17/20\n",
            "260/260 [==============================] - 0s 2ms/step - loss: 0.0156 - accuracy: 0.9974 - val_loss: 0.0334 - val_accuracy: 0.9933\n",
            "Epoch 18/20\n",
            "260/260 [==============================] - 0s 2ms/step - loss: 0.0165 - accuracy: 0.9970 - val_loss: 0.0342 - val_accuracy: 0.9942\n",
            "Epoch 19/20\n",
            "260/260 [==============================] - 0s 2ms/step - loss: 0.0134 - accuracy: 0.9976 - val_loss: 0.0328 - val_accuracy: 0.9933\n",
            "Epoch 20/20\n",
            "260/260 [==============================] - 0s 2ms/step - loss: 0.0098 - accuracy: 0.9984 - val_loss: 0.0323 - val_accuracy: 0.9933\n"
          ],
          "name": "stdout"
        }
      ]
    },
    {
      "cell_type": "code",
      "metadata": {
        "colab": {
          "base_uri": "https://localhost:8080/",
          "height": 295
        },
        "id": "ElaD0NxgY-lh",
        "outputId": "c75e7152-f462-481e-8f9b-a51b165a75df"
      },
      "source": [
        "acc = history['accuracy']\n",
        "loss_values = history['loss']\n",
        "val_loss_values = history['val_loss']\n",
        "epochs = range(1, len(acc) + 1)\n",
        "plt.plot(epochs, loss_values, 'bo', label='Training loss')\n",
        "plt.plot(epochs, val_loss_values, 'b', label='Validation loss')\n",
        "plt.title('Training and validation loss')\n",
        "plt.xlabel('Epochs')\n",
        "plt.ylabel('Loss')\n",
        "plt.legend()\n",
        "plt.show()"
      ],
      "execution_count": 71,
      "outputs": [
        {
          "output_type": "display_data",
          "data": {
            "image/png": "[encoded data removed]",
            "text/plain": [
              "<Figure size 432x288 with 1 Axes>"
            ]
          },
          "metadata": {
            "tags": [],
            "needs_background": "light"
          }
        }
      ]
    },
    {
      "cell_type": "code",
      "metadata": {
        "colab": {
          "base_uri": "https://localhost:8080/"
        },
        "id": "nGC6uFp6ZGQJ",
        "outputId": "498e1ade-ee91-4440-ecda-4d0e8598aefb"
      },
      "source": [
        "results = model2.evaluate(X_test, Y_test)"
      ],
      "execution_count": 72,
      "outputs": [
        {
          "output_type": "stream",
          "text": [
            "41/41 [==============================] - 0s 2ms/step - loss: 0.0235 - accuracy: 0.9938\n"
          ],
          "name": "stdout"
        }
      ]
    },
    {
      "cell_type": "code",
      "metadata": {
        "id": "U8RNaSo2ZWkk"
      },
      "source": [
        ""
      ],
      "execution_count": null,
      "outputs": []
    }
  ]
}